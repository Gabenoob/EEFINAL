{
 "cells": [
  {
   "cell_type": "code",
   "execution_count": 1,
   "metadata": {},
   "outputs": [
    {
     "name": "stdout",
     "output_type": "stream",
     "text": [
      "[[4 4 7]\n",
      " [8 9 4]\n",
      " [2 2 8]\n",
      " [1 5 7]]\n"
     ]
    }
   ],
   "source": [
    "import numpy as np\n",
    "\n",
    "# generate a random int matrix of size 4x3\n",
    "\n",
    "matrix = np.random.randint(0, 10, (4, 3))\n",
    "\n",
    "print(matrix)"
   ]
  },
  {
   "cell_type": "code",
   "execution_count": 5,
   "metadata": {},
   "outputs": [
    {
     "name": "stdout",
     "output_type": "stream",
     "text": [
      "[[1.91119755 0.52591007]\n",
      " [1.03591987 1.75194427]\n",
      " [2.2162929  0.        ]\n",
      " [2.01059234 0.28579951]]\n",
      "[[0.59392576 1.1958961  3.5624934 ]\n",
      " [4.19797015 4.44645011 0.17401216]]\n"
     ]
    },
    {
     "data": {
      "text/plain": [
       "array([[3.3428642 , 4.62402656, 6.9001434 ],\n",
       "       [7.96986922, 9.02878531, 3.99531731],\n",
       "       [1.31631344, 2.65045604, 7.89552885],\n",
       "       [2.3939204 , 3.67525281, 7.21245453]])"
      ]
     },
     "execution_count": 5,
     "metadata": {},
     "output_type": "execute_result"
    }
   ],
   "source": [
    "#NMF\n",
    "from sklearn.decomposition import NMF\n",
    "\n",
    "model = NMF(n_components=2, init='random', random_state=0)\n",
    "W = model.fit_transform(matrix)\n",
    "H = model.components_\n",
    "print(W)\n",
    "print(H)\n",
    "np.dot(W, H)"
   ]
  },
  {
   "cell_type": "code",
   "execution_count": null,
   "metadata": {},
   "outputs": [
    {
     "name": "stdout",
     "output_type": "stream",
     "text": [
      "[[0.22285761 0.23120133 0.26539013]\n",
      " [0.53132461 0.45143927 0.15366605]\n",
      " [0.08775423 0.1325228  0.30367419]\n",
      " [0.15959469 0.18376264 0.2774021 ]]\n"
     ]
    },
    {
     "data": {
      "text/plain": [
       "array([[3.3428642 , 4.62402656, 6.9001434 ],\n",
       "       [7.96986922, 9.02878531, 3.99531731],\n",
       "       [1.31631344, 2.65045604, 7.89552885],\n",
       "       [2.3939204 , 3.67525281, 7.21245453]])"
      ]
     },
     "execution_count": 14,
     "metadata": {},
     "output_type": "execute_result"
    }
   ],
   "source": [
    "# SSMF\n",
    "normX1 = np.linalg.norm(matrix,axis=0, ord=1)\n",
    "normW1 = np.linalg.norm(W,axis=0, ord=1)\n",
    "W_new = W/normW1\n",
    "H_new = (H.T*normW1).T/normX1\n",
    "X_new = np.dot(W_new, H_new)\n"
   ]
  },
  {
   "cell_type": "code",
   "execution_count": null,
   "metadata": {},
   "outputs": [],
   "source": [
    "clc;clear;close all;\n",
    "\n",
    "x=-4:0.01:4;\n",
    "y=gaussmf(x,[1,0]);\n",
    "plot(x,y,'b','LineWidth',2);hold on;\n",
    "axis([-4 4 0 1.001])\n",
    "\n",
    "%% 置信区间边界\n",
    "plot([-2,-2],[0,gaussmf(-2,[1,0])],'k','LineWidth',2);hold on\n",
    "plot([2,2],[0,gaussmf(2,[1,0])],'k','LineWidth',2);hold on\n",
    "%% 置信区间颜色填充\n",
    "for i=1:floor(length(x)/4)\n",
    "    plot([x(i),x(i)],[0,gaussmf(x(i),[1,0])],'Color',[0.35,0,0.6],'LineWidth',2);hold on \n",
    "end\n",
    "for i=1:floor(length(x)/4)\n",
    "    ind=x(x>2);\n",
    "    plot([ind(i),ind(i)],[0,gaussmf(ind(i),[1,0])],'Color',[0.35,0,0.6],'LineWidth',2);hold on \n",
    "end\n",
    "%% 图中标注设置\n",
    "set(gca,'XTicklabel',{' ',' ','\\mu-2\\sigma',' ','\\mu',' ','\\mu+2\\sigma',' '},'fontsize',15)\n",
    "set(gca,'YTicklabel',[])\n",
    "annotation('arrow',[0.27,0.30],[0.24,0.20],'LineWidth',2)\n",
    "annotation('arrow',[0.76,0.73],[0.24,0.20],'LineWidth',2)\n",
    "text(-3,0.20,'\\alpha/2=0.025','color','r','fontsize',15)\n",
    "text(2.1,0.20,'\\alpha/2=0.025','color','r','fontsize',15)\n",
    "\n",
    "title('The 95% confidence interval for \\mu','fontsize',15)\n",
    "\n"
   ]
  }
 ],
 "metadata": {
  "kernelspec": {
   "display_name": "PYENV_EE",
   "language": "python",
   "name": "python3"
  },
  "language_info": {
   "codemirror_mode": {
    "name": "ipython",
    "version": 3
   },
   "file_extension": ".py",
   "mimetype": "text/x-python",
   "name": "python",
   "nbconvert_exporter": "python",
   "pygments_lexer": "ipython3",
   "version": "3.10.12"
  }
 },
 "nbformat": 4,
 "nbformat_minor": 2
}

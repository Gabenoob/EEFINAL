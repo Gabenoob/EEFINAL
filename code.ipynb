{
 "cells": [
  {
   "cell_type": "code",
   "execution_count": 1,
   "metadata": {},
   "outputs": [
    {
     "name": "stdout",
     "output_type": "stream",
     "text": [
      "[[4 4 7]\n",
      " [8 9 4]\n",
      " [2 2 8]\n",
      " [1 5 7]]\n"
     ]
    }
   ],
   "source": [
    "import numpy as np\n",
    "\n",
    "# generate a random int matrix of size 4x3\n",
    "\n",
    "matrix = np.random.randint(0, 10, (4, 3))\n",
    "\n",
    "print(matrix)"
   ]
  },
  {
   "cell_type": "code",
   "execution_count": 5,
   "metadata": {},
   "outputs": [
    {
     "name": "stdout",
     "output_type": "stream",
     "text": [
      "[[1.91119755 0.52591007]\n",
      " [1.03591987 1.75194427]\n",
      " [2.2162929  0.        ]\n",
      " [2.01059234 0.28579951]]\n",
      "[[0.59392576 1.1958961  3.5624934 ]\n",
      " [4.19797015 4.44645011 0.17401216]]\n"
     ]
    },
    {
     "data": {
      "text/plain": [
       "array([[3.3428642 , 4.62402656, 6.9001434 ],\n",
       "       [7.96986922, 9.02878531, 3.99531731],\n",
       "       [1.31631344, 2.65045604, 7.89552885],\n",
       "       [2.3939204 , 3.67525281, 7.21245453]])"
      ]
     },
     "execution_count": 5,
     "metadata": {},
     "output_type": "execute_result"
    }
   ],
   "source": [
    "#NMF\n",
    "from sklearn.decomposition import NMF\n",
    "\n",
    "model = NMF(n_components=2, init='random', random_state=0)\n",
    "W = model.fit_transform(matrix)\n",
    "H = model.components_\n",
    "print(W)\n",
    "print(H)\n",
    "np.dot(W, H)"
   ]
  },
  {
   "cell_type": "code",
   "execution_count": null,
   "metadata": {},
   "outputs": [
    {
     "name": "stdout",
     "output_type": "stream",
     "text": [
      "[[0.22285761 0.23120133 0.26539013]\n",
      " [0.53132461 0.45143927 0.15366605]\n",
      " [0.08775423 0.1325228  0.30367419]\n",
      " [0.15959469 0.18376264 0.2774021 ]]\n"
     ]
    },
    {
     "data": {
      "text/plain": [
       "array([[3.3428642 , 4.62402656, 6.9001434 ],\n",
       "       [7.96986922, 9.02878531, 3.99531731],\n",
       "       [1.31631344, 2.65045604, 7.89552885],\n",
       "       [2.3939204 , 3.67525281, 7.21245453]])"
      ]
     },
     "execution_count": 14,
     "metadata": {},
     "output_type": "execute_result"
    }
   ],
   "source": [
    "# SSMF\n",
    "normX1 = np.linalg.norm(matrix,axis=0, ord=1)\n",
    "normW1 = np.linalg.norm(W,axis=0, ord=1)\n",
    "W_new = W/normW1\n",
    "H_new = (H.T*normW1).T/normX1\n",
    "X_new = np.dot(W_new, H_new)\n"
   ]
  }
 ],
 "metadata": {
  "kernelspec": {
   "display_name": "PYENV_EE",
   "language": "python",
   "name": "python3"
  },
  "language_info": {
   "codemirror_mode": {
    "name": "ipython",
    "version": 3
   },
   "file_extension": ".py",
   "mimetype": "text/x-python",
   "name": "python",
   "nbconvert_exporter": "python",
   "pygments_lexer": "ipython3",
   "version": "3.10.12"
  }
 },
 "nbformat": 4,
 "nbformat_minor": 2
}
